{
  "nbformat": 4,
  "nbformat_minor": 0,
  "metadata": {
    "colab": {
      "name": "Haruspex.ipynb",
      "provenance": [],
      "private_outputs": true,
      "collapsed_sections": []
    },
    "kernelspec": {
      "name": "python3",
      "display_name": "Python 3"
    },
    "accelerator": "GPU"
  },
  "cells": [
    {
      "cell_type": "markdown",
      "metadata": {
        "id": "nN7m8MoY48CR",
        "colab_type": "text"
      },
      "source": [
        "# **Haruspex@Colab**\n",
        "\n",
        "\n",
        "---\n",
        "\n",
        "---\n",
        "\n",
        "This is [Haruspex](https://github.com/thorn-lab/haruspex), a deep neural network trained to identify oligonucleotides and secondary structure in Cryo-EM maps.\n",
        "\n",
        "You can use this notebook to predict secondary structure (helices, sheets and nucleotides) in any EMDB map as well as in your own Cryo-EM map, using the powerful cloud GPUs provided by Google. To run it, please log into your **Google account** first, then follow the instructions step-by-step. If you get a warning when running it the first time, just press **\"Run Anyway\"**.\n",
        "\n",
        "Code and Documentation: https://github.com/thorn-lab/haruspex\n",
        "\n",
        "The details are described in our publication - please cite us if you use Haruspex for your work:\n",
        "\n",
        "> Mostosi, P., Schindelin, H., Kollmannsberger, P., Thorn, A. **Haruspex: A Neural Network for the Automatic Identification of Oligonucleotides and Protein Secondary Structure in Cryo‐EM Maps.** (2020) *Angew. Chem. (Int. Ed.)* https://doi.org/10.1002/ange.202000421\n",
        "\n",
        "Questions & comments about this notebook to <Philip.Kollmannsberger@uni-wuerzburg.de>\n",
        "\n",
        "\n",
        "\n",
        "\n",
        "\n"
      ]
    },
    {
      "cell_type": "markdown",
      "metadata": {
        "id": "MvFRlx879OxN",
        "colab_type": "text"
      },
      "source": [
        "\n",
        "\n",
        "---\n",
        "\n",
        "---\n",
        "\n",
        "\n",
        "\n",
        "## **1) Check GPU availability**\n",
        "\n",
        "Please change the runtime to GPU by selecting `Runtime->Change runtime type` if not already done so, and then run the following cell. If the last line of the output says something like `Tesla-P100`\n",
        ", you are fine. Otherwise, please try again now or at a later time."
      ]
    },
    {
      "cell_type": "code",
      "metadata": {
        "id": "yvmekc-Gv-ia",
        "colab_type": "code",
        "cellView": "form",
        "colab": {}
      },
      "source": [
        "#@title *Run this cell to check GPU availability*\n",
        "%tensorflow_version 1.x\n",
        "\n",
        "from tensorflow.python.client import device_lib \n",
        "device_lib.list_local_devices()"
      ],
      "execution_count": 0,
      "outputs": []
    },
    {
      "cell_type": "markdown",
      "metadata": {
        "id": "2cCw7slc9m4-",
        "colab_type": "text"
      },
      "source": [
        "\n",
        "\n",
        "---\n",
        "\n",
        "---\n",
        "\n",
        "\n",
        "## **2) Install requirements and clone Haruspex repository**\n",
        "\n",
        "\n",
        "\n",
        "\n",
        "The default Colab environment already contains Tensorflow and most packages required by Haruspex. We only need to install `mrcfile` to handle maps, and then clone the Haruspex repository from github, including the pre-trained network described in the paper."
      ]
    },
    {
      "cell_type": "code",
      "metadata": {
        "id": "7Jza8RRnvRds",
        "colab_type": "code",
        "colab": {},
        "cellView": "form"
      },
      "source": [
        "#@title *Run this cell to install requirements and get Haruspex*\n",
        "!pip install mrcfile\n",
        "!git clone https://github.com/thorn-lab/haruspex\n",
        "%cd haruspex"
      ],
      "execution_count": 0,
      "outputs": []
    },
    {
      "cell_type": "markdown",
      "metadata": {
        "id": "ktBJR6zT_XB_",
        "colab_type": "text"
      },
      "source": [
        "\n",
        "\n",
        "---\n",
        "\n",
        "---\n",
        "\n",
        "\n",
        "## **3) Setup map to be predicted**\n",
        "\n",
        "There are three options: you can enter an EMDB ID, then the corresponding map will automatically be downloaded into this session. Alternatively, you can select \"Choose Files\" and upload your own map. As a third option, you can connect to your Google Drive.\n",
        "\n",
        "---\n",
        "\n",
        "**Option 1: Use EMDB map**\n",
        "\n",
        "Please enter an EMDB ID in the following field and run the cell to download the corresponding map from the EMDB, then proceed with step 4)\n",
        "\n"
      ]
    },
    {
      "cell_type": "code",
      "metadata": {
        "id": "nmywlZ5R__nD",
        "colab_type": "code",
        "cellView": "form",
        "colab": {}
      },
      "source": [
        "#@title *Enter an EMDB ID and run this cell to download the corresponding Cryo-EM map:*\n",
        "\n",
        "EMDB = '9627' #@param {type:\"string\"}\n",
        "Filename = \"emd_\"+EMDB+\".map.gz\"\n",
        "ftp_string = \"ftp://ftp.ebi.ac.uk/pub/databases/emdb/structures/EMD-\"+EMDB+\"/map/emd_\"+EMDB+\".map.gz\"\n",
        "!wget $ftp_string\n",
        "print(\"\\n ---> your filename is \"+Filename)\n"
      ],
      "execution_count": 0,
      "outputs": []
    },
    {
      "cell_type": "markdown",
      "metadata": {
        "id": "aRmG2H2eCD7p",
        "colab_type": "text"
      },
      "source": [
        "---\n",
        "\n",
        "**Option 2: Upload your own map**\n",
        "\n",
        "If you want to upload your own map: run the following cell, click \"Choose Files\" and select a map file on your local computer to be uploaded."
      ]
    },
    {
      "cell_type": "code",
      "metadata": {
        "id": "K2IgVyk5xgyU",
        "colab_type": "code",
        "colab": {},
        "cellView": "form"
      },
      "source": [
        "#@title *Run this cell and click \"Choose Files\" to upload your own map.*\n",
        "from google.colab import files\n",
        "file = files.upload()\n",
        "for fn in file.keys(): Filename=fn\n",
        "print(\"\\n ---> your filename is \"+Filename)"
      ],
      "execution_count": 0,
      "outputs": []
    },
    {
      "cell_type": "markdown",
      "metadata": {
        "id": "xspaANFaGXs3",
        "colab_type": "text"
      },
      "source": [
        "---\n",
        "\n",
        "**Option 3: Connect to your Google Drive**\n",
        "\n",
        "If your map is stored on your Google Drive, you can connect this notebook and enter the path below."
      ]
    },
    {
      "cell_type": "code",
      "metadata": {
        "id": "T51_Bx6lHOPx",
        "colab_type": "code",
        "colab": {},
        "cellView": "form"
      },
      "source": [
        "#@title *Run this cell and follow instructions to connect your GDrive*\n",
        "from google.colab import drive\n",
        "drive.mount('/content/drive')"
      ],
      "execution_count": 0,
      "outputs": []
    },
    {
      "cell_type": "markdown",
      "metadata": {
        "id": "JbwZDPRiCTKH",
        "colab_type": "text"
      },
      "source": [
        "\n",
        "---\n",
        "\n",
        "---\n",
        "\n",
        "## **4) Run prediction**\n",
        "\n",
        "Enter the filename of the map to be predicted (as shown above), and run the following cell. If you connected your Google Drive, you need to enter the full path (`\"/content/drive/...your map file...\"`)"
      ]
    },
    {
      "cell_type": "code",
      "metadata": {
        "id": "dAaKK3Jv2pCo",
        "colab_type": "code",
        "cellView": "form",
        "colab": {}
      },
      "source": [
        "#@title *Enter map filename and run this cell to let Haruspex predict your map:*\n",
        "\n",
        "Filename = \"emd_9627.map.gz\" #@param {type:\"string\"}\n",
        "\n",
        "# this command disables logging in newer TF 1.x versions\n",
        "newstr = \"tf.compat.v1.logging.set_verbosity(tf.compat.v1.logging.ERROR)\"\n",
        "\n",
        "# modify the haruspex code from the repo which is for an older TF version\n",
        "!sed -i '22i$newstr' source/hpx_unet_190116.py\n",
        "\n",
        "# run the prediction from the shell, disabling warnings via the environment\n",
        "!TF_CPP_MIN_LOG_LEVEL='3' python source/hpx_unet_190116.py -n network/hpx_190116 -d map-predict \"$Filename\" -o ."
      ],
      "execution_count": 0,
      "outputs": []
    },
    {
      "cell_type": "markdown",
      "metadata": {
        "id": "NIdhHY9c_4IF",
        "colab_type": "text"
      },
      "source": [
        "\n",
        "\n",
        "---\n",
        "\n",
        "---\n",
        "\n",
        "\n",
        "## **5) Download results**\n",
        "\n",
        "\n",
        "\n",
        "Run the following cell to automatically generate and download a `.zip` archive containing the three predicted classes as `.mrc` files. Please be patient, this may take a while.\n",
        "\n",
        "Alternatively, you can open the **Files** pane on the top left (click on the folder symbol), and download the `.mrc` files manually by **right-clicking** on them and selecting **Download**."
      ]
    },
    {
      "cell_type": "code",
      "metadata": {
        "id": "8kcKvpZwIsVr",
        "colab_type": "code",
        "colab": {},
        "cellView": "form"
      },
      "source": [
        "#@title *Run this cell to download results as `.zip` archive*\n",
        "!zip -r haruspex_result.zip /content/haruspex/$Filename_*.mrc\n",
        "from google.colab import files\n",
        "files.download(\"haruspex_result.zip\")"
      ],
      "execution_count": 0,
      "outputs": []
    }
  ]
}